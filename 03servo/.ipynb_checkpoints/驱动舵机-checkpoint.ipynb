{
 "cells": [
  {
   "cell_type": "markdown",
   "metadata": {},
   "source": [
    "/**\n",
    "* @par Copyright (C): 2010-2020, Shenzhen Yahboom Tech\n",
    "* @file:         驱动舵机\n",
    "* @author:       xiaozhen\n",
    "* @version：     V1.0\n",
    "* @date:         2020.10.10\n",
    "* @brief:        驱动舵机\n",
    "* @details:\n",
    "* @par History:  见如下说明\n",
    "*/"
   ]
  },
  {
   "cell_type": "markdown",
   "metadata": {},
   "source": [
    "#### 注意事项：\n",
    "#### 关于舵机的接线，扩展板上一共有S1~S4个舵机接口。舵机棕色的线需要接GND(也就是扩展板上标有“-”的引脚）。"
   ]
  },
  {
   "cell_type": "code",
   "execution_count": 19,
   "metadata": {},
   "outputs": [],
   "source": [
    "import YB_Pcb_Car  #导入亚博智能专用的底层库文件\n",
    "import time\n",
    "\n",
    "car = YB_Pcb_Car.YB_Pcb_Car()"
   ]
  },
  {
   "cell_type": "markdown",
   "metadata": {},
   "source": [
    "##### 控制两个舵机转动到最中间位置"
   ]
  },
  {
   "cell_type": "code",
   "execution_count": 37,
   "metadata": {},
   "outputs": [],
   "source": [
    "car.Ctrl_Servo(1, 90) #连接在扩展板上S1接口的舵机，转动到90度\n",
    "time.sleep(0.5)\n",
    "    \n",
    "car.Ctrl_Servo(2, 90) #连接在扩展板上S2接口的舵机，转动到90度\n",
    "time.sleep(0.5)"
   ]
  },
  {
   "cell_type": "markdown",
   "metadata": {},
   "source": [
    "##### 控制两个舵机转动到0度"
   ]
  },
  {
   "cell_type": "code",
   "execution_count": 35,
   "metadata": {},
   "outputs": [],
   "source": [
    "car.Ctrl_Servo(1, 0) #连接在扩展板上S1接口的舵机，转动到180度\n",
    "time.sleep(0.5)\n",
    "\n",
    "car.Ctrl_Servo(2, 0) #连接在扩展板上S2接口的舵机，转动到0度\n",
    "time.sleep(0.5)"
   ]
  },
  {
   "cell_type": "markdown",
   "metadata": {},
   "source": [
    "##### 控制两个舵机转动到180度"
   ]
  },
  {
   "cell_type": "code",
   "execution_count": 36,
   "metadata": {},
   "outputs": [],
   "source": [
    "car.Ctrl_Servo(1, 180) #连接在扩展板上S2接口的舵机，转动到180度\n",
    "time.sleep(0.5)\n",
    "    \n",
    "car.Ctrl_Servo(2, 180)\n",
    "time.sleep(0.5)"
   ]
  },
  {
   "cell_type": "code",
   "execution_count": 18,
   "metadata": {},
   "outputs": [],
   "source": [
    "del car #The object needs to be released after use, otherwise, when the next program needs to use this object module, it will be occupied and will become unusable"
   ]
  },
  {
   "cell_type": "code",
   "execution_count": null,
   "metadata": {},
   "outputs": [],
   "source": []
  }
 ],
 "metadata": {
  "kernelspec": {
   "display_name": "Python 3",
   "language": "python",
   "name": "python3"
  },
  "language_info": {
   "codemirror_mode": {
    "name": "ipython",
    "version": 3
   },
   "file_extension": ".py",
   "mimetype": "text/x-python",
   "name": "python",
   "nbconvert_exporter": "python",
   "pygments_lexer": "ipython3",
   "version": "3.7.3"
  }
 },
 "nbformat": 4,
 "nbformat_minor": 4
}
