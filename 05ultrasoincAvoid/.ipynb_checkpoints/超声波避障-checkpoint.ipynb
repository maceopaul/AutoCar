{
 "cells": [
  {
   "cell_type": "markdown",
   "metadata": {},
   "source": [
    "/**\n",
    "* @par Copyright (C): 2010-2020, Shenzhen Yahboom Tech\n",
    "* @file:         超声波避障.ipynb\n",
    "* @author:       xiaozhen\n",
    "* @version：     V1.0\n",
    "* @date:         2020.10.12\n",
    "* @brief:        超声波避障\n",
    "* @details:\n",
    "* @par History:  见如下说明\n",
    "*/"
   ]
  },
  {
   "cell_type": "markdown",
   "metadata": {},
   "source": [
    "### 导入我们需要用到的库文件"
   ]
  },
  {
   "cell_type": "code",
   "execution_count": 1,
   "metadata": {},
   "outputs": [],
   "source": [
    "#-*- coding:UTF-8 -*-\n",
    "import RPi.GPIO as GPIO\n",
    "import time\n",
    "import YB_Pcb_Car    #导入Yahboom专门库文件\n",
    "\n",
    "car = YB_Pcb_Car.YB_Pcb_Car()"
   ]
  },
  {
   "cell_type": "markdown",
   "metadata": {},
   "source": [
    "### 定义本次课程需要用到的引脚。\n",
    "\n",
    "### 设置GPIO的编码方式，以及初始化设置。"
   ]
  },
  {
   "cell_type": "code",
   "execution_count": 2,
   "metadata": {},
   "outputs": [],
   "source": [
    "#设置GPIO口为BIARD编码方式\n",
    "GPIO.setmode(GPIO.BOARD)\n",
    "\n",
    "#忽略警告信息\n",
    "GPIO.setwarnings(False)\n",
    "\n",
    "#定义超声波模块的引脚\n",
    "EchoPin = 18\n",
    "TrigPin = 16\n",
    "\n",
    "#设置超声波模块引脚的模式\n",
    "GPIO.setup(EchoPin,GPIO.IN)\n",
    "GPIO.setup(TrigPin,GPIO.OUT)"
   ]
  },
  {
   "cell_type": "code",
   "execution_count": 3,
   "metadata": {},
   "outputs": [],
   "source": [
    "#超声波函数\n",
    "def Distance():\n",
    "    GPIO.output(TrigPin,GPIO.LOW)\n",
    "    time.sleep(0.000002)\n",
    "    GPIO.output(TrigPin,GPIO.HIGH)\n",
    "    time.sleep(0.000015)\n",
    "    GPIO.output(TrigPin,GPIO.LOW)\n",
    "\n",
    "    t3 = time.time()\n",
    "\n",
    "    while not GPIO.input(EchoPin):\n",
    "        t4 = time.time()\n",
    "        if (t4 - t3) > 0.03 :\n",
    "            return -1\n",
    "    t1 = time.time()\n",
    "    while GPIO.input(EchoPin):\n",
    "        t5 = time.time()\n",
    "        if(t5 - t1) > 0.03 :\n",
    "            return -1\n",
    "\n",
    "    t2 = time.time()\n",
    "    #time.sleep(0.01)\n",
    "    #print (\"distance_1 is %d \" % (((t2 - t1)* 340 / 2) * 100))\n",
    "    return ((t2 - t1)* 340 / 2) * 100\n"
   ]
  },
  {
   "cell_type": "code",
   "execution_count": 4,
   "metadata": {},
   "outputs": [],
   "source": [
    "def Distance_test():\n",
    "    num = 0\n",
    "    ultrasonic = []\n",
    "    while num < 5:\n",
    "            distance = Distance()\n",
    "            #print(\"distance is %f\"%(distance) )\n",
    "            while int(distance) == -1 :\n",
    "                distance = Distance()\n",
    "                #print(\"Tdistance is %f\"%(distance) )\n",
    "            while (int(distance) >= 500 or int(distance) == 0) :\n",
    "                distance = Distance()\n",
    "                #print(\"Edistance is %f\"%(distance) )\n",
    "            ultrasonic.append(distance)\n",
    "            num = num + 1\n",
    "            #time.sleep(0.01)\n",
    "    #print ('ultrasonic')\n",
    "    distance = (ultrasonic[1] + ultrasonic[2] + ultrasonic[3])/3\n",
    "    #print(\"distance is %f\"%(distance) ) \n",
    "    return distance"
   ]
  },
  {
   "cell_type": "markdown",
   "metadata": {},
   "source": [
    "### 以下Avoid函数用于完成小车超声波避障功能"
   ]
  },
  {
   "cell_type": "code",
   "execution_count": 9,
   "metadata": {},
   "outputs": [],
   "source": [
    "def avoid():\n",
    "    distance = Distance_test()\n",
    "    if distance < 15 :\n",
    "        car.Car_Stop() \n",
    "        time.sleep(0.1)\n",
    "        car.Car_Spin_Right(100,100) \n",
    "        time.sleep(0.5)\n",
    "    else:\n",
    "        car.Car_Run(100,100) "
   ]
  },
  {
   "cell_type": "code",
   "execution_count": 10,
   "metadata": {},
   "outputs": [
    {
     "name": "stdout",
     "output_type": "stream",
     "text": [
      "Ending\n"
     ]
    }
   ],
   "source": [
    "try:\n",
    "    while True:\n",
    "        avoid()\n",
    "except KeyboardInterrupt:\n",
    "    pass\n",
    "car.Car_Stop() \n",
    "del car\n",
    "print(\"Ending\")\n",
    "GPIO.cleanup()"
   ]
  },
  {
   "cell_type": "markdown",
   "metadata": {},
   "source": [
    "### 当你需要结束整个程序时，请点击上方菜单栏中的方块型按钮(Interrupt the kernel）.\n",
    "### 然后你可以看到Ending提示，表示已经成功地结束了这个程序"
   ]
  },
  {
   "cell_type": "code",
   "execution_count": null,
   "metadata": {},
   "outputs": [],
   "source": []
  }
 ],
 "metadata": {
  "kernelspec": {
   "display_name": "Python 3",
   "language": "python",
   "name": "python3"
  },
  "language_info": {
   "codemirror_mode": {
    "name": "ipython",
    "version": 3
   },
   "file_extension": ".py",
   "mimetype": "text/x-python",
   "name": "python",
   "nbconvert_exporter": "python",
   "pygments_lexer": "ipython3",
   "version": "3.7.3"
  }
 },
 "nbformat": 4,
 "nbformat_minor": 4
}
