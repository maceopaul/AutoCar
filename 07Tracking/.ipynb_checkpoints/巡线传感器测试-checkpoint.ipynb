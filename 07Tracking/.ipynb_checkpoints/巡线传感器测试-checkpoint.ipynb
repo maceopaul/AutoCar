{
 "cells": [
  {
   "cell_type": "markdown",
   "metadata": {},
   "source": [
    "/**\n",
    "* @par Copyright (C): 2010-2020, Shenzhen Yahboom Tech\n",
    "* @file:         巡线传感器测试\n",
    "* @author:       xiaozhen\n",
    "* @version：      V1.0\n",
    "* @date:         2020.09.25\n",
    "* @brief:       巡线传感器测试\n",
    "* @details:\n",
    "* @par History:  见如下说明\n",
    "*/"
   ]
  },
  {
   "cell_type": "markdown",
   "metadata": {},
   "source": [
    "### 运行如下所示的程序之后，你可以看到四个巡线传感器的引脚的状态会被打印出来。\n",
    "#### 检测到黑线低电平指示灯点亮，未检测到黑线高电平指示灯熄灭。"
   ]
  },
  {
   "cell_type": "code",
   "execution_count": 1,
   "metadata": {},
   "outputs": [
    {
     "name": "stdout",
     "output_type": "stream",
     "text": [
      "start\n",
      "0\n",
      "0\n",
      "0\n",
      "0\n",
      "---\n",
      "0\n",
      "0\n",
      "0\n",
      "0\n",
      "---\n",
      "0\n",
      "0\n",
      "0\n",
      "1\n",
      "---\n",
      "0\n",
      "0\n",
      "0\n",
      "1\n",
      "---\n",
      "0\n",
      "0\n",
      "0\n",
      "0\n",
      "---\n",
      "0\n",
      "0\n",
      "0\n",
      "0\n",
      "---\n",
      "Ending\n"
     ]
    }
   ],
   "source": [
    "#-*- coding:UTF-8 -*-\n",
    "import RPi.GPIO as GPIO\n",
    "import time\n",
    "\n",
    "Tracking_Left1 = 13   #X1B 左边第一个传感器\n",
    "Tracking_Left2 = 15   #X2B 左边第二个传感器\n",
    "Tracking_Right1 = 11   #X1A  右边第一个传感器\n",
    "Tracking_Right2 = 7  #X2A  右边第二个传感器\n",
    "\n",
    "GPIO.setmode(GPIO.BOARD)\n",
    "\n",
    "GPIO.setwarnings(False)\n",
    "\n",
    "GPIO.setup(Tracking_Left1,GPIO.IN)\n",
    "GPIO.setup(Tracking_Left2,GPIO.IN)\n",
    "GPIO.setup(Tracking_Right1,GPIO.IN)\n",
    "GPIO.setup(Tracking_Right2,GPIO.IN)\n",
    "\n",
    "print ('start')\n",
    "\n",
    "try:\n",
    "    while True:\n",
    "        Tracking_Left1Value = GPIO.input(Tracking_Left1);\n",
    "        Tracking_Left2Value = GPIO.input(Tracking_Left2);\n",
    "        Tracking_Right1Value = GPIO.input(Tracking_Right1);\n",
    "        Tracking_Right2Value = GPIO.input(Tracking_Right2);\n",
    "        print (Tracking_Left1Value)\n",
    "        print (Tracking_Left2Value)\n",
    "        print (Tracking_Right1Value)\n",
    "        print (Tracking_Right2Value)\n",
    "        print ('---')\n",
    "        time.sleep(1)\n",
    "except KeyboardInterrupt:\n",
    "    pass\n",
    "print(\"Ending\")\n",
    "GPIO.cleanup()"
   ]
  },
  {
   "cell_type": "code",
   "execution_count": null,
   "metadata": {},
   "outputs": [],
   "source": []
  },
  {
   "cell_type": "markdown",
   "metadata": {},
   "source": [
    "### 当你需要结束整个程序时，请点击上方菜单栏中的方块型按钮(Interrupt the kernel）.\n",
    "### 然后你可以看到Ending提示，表示已经成功地结束了这个程序"
   ]
  }
 ],
 "metadata": {
  "kernelspec": {
   "display_name": "Python 3",
   "language": "python",
   "name": "python3"
  },
  "language_info": {
   "codemirror_mode": {
    "name": "ipython",
    "version": 3
   },
   "file_extension": ".py",
   "mimetype": "text/x-python",
   "name": "python",
   "nbconvert_exporter": "python",
   "pygments_lexer": "ipython3",
   "version": "3.7.3"
  }
 },
 "nbformat": 4,
 "nbformat_minor": 4
}
